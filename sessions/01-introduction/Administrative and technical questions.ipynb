{
 "cells": [
  {
   "cell_type": "markdown",
   "metadata": {},
   "source": [
    "# Welcome to the Python Club at the Institute of Astrophysics\n",
    "\n",
    "We will meet every two Wednesday at 5 pm in the Seminar room. The moderators will be Josh Tan, Roberto Muñoz and Marcelo Mora. The Python Club will mostly consits of hands-on tutorials and everyone can volunteer to give one.\n",
    "\n",
    "The idea is inviting beginners and advanced Python users to the meeting, so we can interact each other, teach and learn.\n",
    "\n",
    "You are welcome to bring your laptop to follow the tutorials. All the talks, tutorials and code will be uploaded to the Github repository."
   ]
  },
  {
   "cell_type": "markdown",
   "metadata": {},
   "source": [
    "### How to participate of the Python Club?\n",
    "\n",
    "First, coming to the meetings every two weeks. Then, sharing information in the google group. And for sure, forking the Github repository and doing pull-requests oftenly.\n",
    "\n",
    "**Python Club Google Group:** <https://groups.google.com/d/forum/astro-puc-python-club>\n",
    "\n",
    "**Python Club email:** <astro-puc-python-club@googlegroups.com>\n",
    "\n",
    "**Python Club webpage:** <http://pucdata.github.io>\n",
    "\n",
    "**Python club Github repository:** <https://github.com/pucdata/pythonclub>\n"
   ]
  },
  {
   "cell_type": "markdown",
   "metadata": {},
   "source": [
    "### Survey about Python\n",
    "\n",
    "We will run several surveys along the term. The first survey will about the skill level in Python programming and what version are you using?\n",
    "\n",
    "https://pollev.com/pucdatalab232\n",
    "\n",
    "### Poll results on 14-September-2016\n",
    "\n",
    "**Question 1: What is your skill level in Python programming?**\n",
    "\n",
    "<img src=\"images/Python_club_question_1.png\" width=\"600\">\n",
    "\n",
    "**Question 2: Which version of Python are you using to write scientific code?**\n",
    "\n",
    "<img src=\"images/Python_club_question_2.png\" width=\"600\">\n",
    "\n",
    "**Question 3: In case you develop software with Python 2.7 ¿When are you planning to make the transition to Python 3.x?**\n",
    "\n",
    "<img src=\"images/Python_club_question_3.png\" width=\"600\">"
   ]
  },
  {
   "cell_type": "markdown",
   "metadata": {},
   "source": [
    "### Learning the basics about Python\n",
    "\n",
    "If you know nothing or little about Python, please take the free Python courses in <a href=\"https://www.datacamp.com\">DataCamp</a>, <a href=\"https://www.coursera.org\">Coursera</a> and <a href=\"https://www.edx.org\">EdX</a>.\n",
    "\n",
    "Python lectures by Robert Johansson <https://github.com/jrjohansson/scientific-python-lectures>\n",
    "\n",
    "Equivalent commands between IDL and Python <http://mathesaurus.sourceforge.net/idl-numpy.html>"
   ]
  },
  {
   "cell_type": "markdown",
   "metadata": {},
   "source": []
  }
 ],
 "metadata": {
  "kernelspec": {
   "display_name": "Python 2",
   "language": "python",
   "name": "python2"
  },
  "language_info": {
   "codemirror_mode": {
    "name": "ipython",
    "version": 2
   },
   "file_extension": ".py",
   "mimetype": "text/x-python",
   "name": "python",
   "nbconvert_exporter": "python",
   "pygments_lexer": "ipython2",
   "version": "2.7.11"
  }
 },
 "nbformat": 4,
 "nbformat_minor": 1
}
