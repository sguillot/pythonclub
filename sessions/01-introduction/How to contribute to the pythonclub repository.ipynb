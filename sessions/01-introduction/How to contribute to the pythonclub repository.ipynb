{
 "cells": [
  {
   "cell_type": "markdown",
   "metadata": {},
   "source": [
    "# How to fork and push content to the Github repository\n",
    "\n",
    "We will adopt the **fork and branch** Git Workflow. The **fork and branch** workflow is a common way of collaborating on open source projects using [Git](https://git-scm.com) and [GitHub](https://github.com).\n",
    "\n",
    "Basically, the **fork and branch** workflow looks something like this:\n",
    "\n",
    "- Fork a GitHub repository.\n",
    "- Clone the forked repository to your local system.\n",
    "- Add a Git remote for the original repository.\n",
    "- Create a feature branch in which to place your changes.\n",
    "- Make your changes to the new branch.\n",
    "- Commit the changes to the branch.\n",
    "- Push the branch to GitHub.\n",
    "- Open a pull request from the new branch to the original repo.\n",
    "- Clean up after your pull request is merged."
   ]
  },
  {
   "cell_type": "markdown",
   "metadata": {},
   "source": [
    "## How to fork and clone the pythonclub repository\n",
    "\n",
    "1. Install [Git](https://git-scm.com) in your computer and create an account in [GitHub](https://github.com).\n",
    "\n",
    "1. Open the web browser and visit the link <https://github.com/pucdata/pythonclub>  \n",
    "   Click the icon Fork located in the top-right of the window\n",
    "   <img src=\"images/pythonclub_how_to_fork.png\" width=\"600\">\n",
    "\n",
    "1. Create a folder in your computer for storing all your Github repositories. We recommed creating the folder Github in your HOME. Open the terminal and execute the following commands.\n",
    "```sh\n",
    "cd ~\n",
    "mkdir Github\n",
    "cd Github\n",
    "```\n",
    "\n",
    "1. Setup a couple of Github parameters.\n",
    "   Replace vim with your favorite editor, YOUR_NAME with your Name and YOUR_EMAIL with your email address  \n",
    "```sh\n",
    "git config credential.helper store\n",
    "git config --global core.editor \"vim\"\n",
    "git config --global push.default current\n",
    "git config --global user.name \"YOUR_NAME\"\n",
    "git config --global user.email \"YOUR_EMAIL\"\n",
    "```\n",
    "\n",
    "1. Clone the pythonclub repository from the Github server to your local computer (origin).\n",
    "   Replace YOUR_GITHUB_USERNAME with your Github username. \n",
    "   Add a Git remote for the original repository (upstream).\n",
    "```sh\n",
    "git clone https://github.com/YOUR_GITHUB_USERNAME/pythonclub.git  \n",
    "cd pythonclub  \n",
    "git remote add upstream https://github.com/pucdata/pythonclub.git  \n",
    "git fetch --all  \n",
    "git remote -v\n",
    "```"
   ]
  },
  {
   "cell_type": "markdown",
   "metadata": {},
   "source": [
    "## How to create a new branch and push new content\n",
    "\n",
    "1. Let’s say you want to create a tutorial about **astropy**. The best way is to create a branch from master and develop the new code on that branch. Let’s call the branch **astropy**.\n",
    "```sh\n",
    "git checkout -b astropy\n",
    "```\n",
    "\n",
    "1. Now you are in the *astropy* branch and you can add any content you want. Even you can modify files that were already in the repository.\n",
    "\n",
    "   For tracking the new files you need to use **git add**\n",
    "   \n",
    "   For commiting the changes you need to use **git commit**\n",
    "   \n",
    "   Replace TYPE_A_LOG_MESSAGE by a short message describing the changes\n",
    "```sh\n",
    "git add -A\n",
    "git commit -m \"TYPE_A_LOG_MESSAGE\"\n",
    "```\n",
    "\n",
    "1. Push the changes to your forked copy of the repository (it's called **origin**). Since you are pushing content for the first time, you need to specify where are you pushing. In this case, we are pushing to the **astropy** branch hosted in the remote **origin**.\n",
    "```sh\n",
    "git push --set-upstream origin astropy\n",
    "```\n",
    "   The next time you push content to the repository you just need to execute git push\n",
    "```sh\n",
    "git push\n",
    "```"
   ]
  },
  {
   "cell_type": "markdown",
   "metadata": {},
   "source": [
    "## How to open a pull-request\n",
    "\n",
    "The previous instructions were for forking the pythonclub reposotiory and pushing new content to the forked repository (**YOUR_GITHUB_USERNAME**). Now you will open a pull-request to push the content to the original repository (**pucdata**)\n",
    "\n",
    "1. The easiest way is visiting the forked repository in your Github account (https://github.com/YOUR_GITHUB_USERNAME/pythonclub) and clicking the green button **Compare & pull request** \n",
    "\n",
    "<img src=\"images/pythonclub_pullrequest.png\" width=\"600\">\n",
    "\n",
    "   A new window will be opened and you should type a title and comment for the pull-request. This information will be read by the manager of pucdata, so try to be concise and clear. Once you are done, click the green button **Create pull request**.\n",
    "   \n",
    "<img src=\"images/pythonclub_create_pullrequest.png\" width=\"600\">"
   ]
  },
  {
   "cell_type": "markdown",
   "metadata": {},
   "source": [
    "## How to keep the master synced with the original repository\n",
    "\n",
    "The most important branch in your repository is called **master**. You should reserve this branch to have an identical copy of the **master** branch in the original repository (https://github.com/pucdata/pythonclub). For adding new content or modifying code, you should always create a new branch, let's say **astropy**.\n",
    "\n",
    "To keep synced the master branch in your forked repository with the original repository, execute the following commands\n",
    "\n",
    "```sh\n",
    "git checkout master\n",
    "git fetch upstream\n",
    "git rebase upstream/master\n",
    "git push\n",
    "```"
   ]
  },
  {
   "cell_type": "markdown",
   "metadata": {},
   "source": [
    "## Additional information\n",
    "\n",
    "If you want to learn more details about Git, Github and the Fork-and-Branch workflow, please visit the following links\n",
    "\n",
    "- http://blog.scottlowe.org/2015/01/14/non-programmer-git-intro/\n",
    "- http://blog.scottlowe.org/2015/01/26/using-git-with-github/\n",
    "- http://blog.scottlowe.org/2015/01/27/using-fork-branch-git-workflow/"
   ]
  },
  {
   "cell_type": "code",
   "execution_count": null,
   "metadata": {
    "collapsed": true
   },
   "outputs": [],
   "source": []
  }
 ],
 "metadata": {
  "kernelspec": {
   "display_name": "Python 2",
   "language": "python",
   "name": "python2"
  },
  "language_info": {
   "codemirror_mode": {
    "name": "ipython",
    "version": 2
   },
   "file_extension": ".py",
   "mimetype": "text/x-python",
   "name": "python",
   "nbconvert_exporter": "python",
   "pygments_lexer": "ipython2",
   "version": "2.7.12"
  }
 },
 "nbformat": 4,
 "nbformat_minor": 1
}
