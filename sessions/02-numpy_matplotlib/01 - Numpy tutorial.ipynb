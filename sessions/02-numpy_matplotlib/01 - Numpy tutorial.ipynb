{
 "cells": [
  {
   "cell_type": "markdown",
   "metadata": {},
   "source": [
    "## Introduction to Numpy\n",
    "\n",
    "\n",
    "**Author:** Roberto P. Muñoz<br />\n",
    "**Email:** <rmunoz@uc.cl>\n",
    "\n",
    "<a href=\"http://www.numpy.org\">NumPy</a> is the fundamental package for scientific computing with Python.<br />\n",
    "You can visit the <a href=\"https://github.com/numpy/numpy\"> Github repository<a>"
   ]
  },
  {
   "cell_type": "code",
   "execution_count": 12,
   "metadata": {
    "collapsed": true
   },
   "outputs": [],
   "source": [
    "from __future__ import print_function "
   ]
  },
  {
   "cell_type": "markdown",
   "metadata": {},
   "source": [
    "### Review of Python data types and structures\n",
    "\n",
    "- Numeric types\n",
    " - int\n",
    " - float \n",
    " - long\n",
    " - complex"
   ]
  },
  {
   "cell_type": "code",
   "execution_count": 13,
   "metadata": {
    "collapsed": false
   },
   "outputs": [
    {
     "name": "stdout",
     "output_type": "stream",
     "text": [
      "2 <type 'int'>\n",
      "2 <type 'int'>\n"
     ]
    }
   ],
   "source": [
    "x=int(2)\n",
    "print(x, type(x))\n",
    "\n",
    "x=2\n",
    "print(x, type(x))"
   ]
  },
  {
   "cell_type": "code",
   "execution_count": 14,
   "metadata": {
    "collapsed": false
   },
   "outputs": [
    {
     "name": "stdout",
     "output_type": "stream",
     "text": [
      "(1+2j) <type 'complex'>\n",
      "(1+2j) <type 'complex'>\n"
     ]
    }
   ],
   "source": [
    "x=complex(1,2)\n",
    "print(x, type(x))\n",
    "\n",
    "x=1+2*1j\n",
    "print(x, type(x))"
   ]
  },
  {
   "cell_type": "markdown",
   "metadata": {},
   "source": [
    "- Data structures\n",
    " - Tuple  // Immutable and usually heterogeous sequence of elements\n",
    " - List  // Mutable and usually homogeneous\n",
    " - Dictionary"
   ]
  },
  {
   "cell_type": "code",
   "execution_count": 25,
   "metadata": {
    "collapsed": false
   },
   "outputs": [
    {
     "name": "stdout",
     "output_type": "stream",
     "text": [
      "(1, 2, 3, 4) <type 'tuple'>\n"
     ]
    }
   ],
   "source": [
    "# Tuple\n",
    "x=(1,2,3,4)\n",
    "print(x, type(x))"
   ]
  },
  {
   "cell_type": "code",
   "execution_count": 26,
   "metadata": {
    "collapsed": false
   },
   "outputs": [
    {
     "ename": "TypeError",
     "evalue": "'tuple' object does not support item assignment",
     "output_type": "error",
     "traceback": [
      "\u001b[0;31m---------------------------------------------------------------------------\u001b[0m",
      "\u001b[0;31mTypeError\u001b[0m                                 Traceback (most recent call last)",
      "\u001b[0;32m<ipython-input-26-daf4894e32bf>\u001b[0m in \u001b[0;36m<module>\u001b[0;34m()\u001b[0m\n\u001b[0;32m----> 1\u001b[0;31m \u001b[0mx\u001b[0m\u001b[0;34m[\u001b[0m\u001b[0;36m0\u001b[0m\u001b[0;34m]\u001b[0m\u001b[0;34m=\u001b[0m\u001b[0;36m100\u001b[0m\u001b[0;34m\u001b[0m\u001b[0m\n\u001b[0m\u001b[1;32m      2\u001b[0m \u001b[0;32mprint\u001b[0m\u001b[0;34m(\u001b[0m\u001b[0mx\u001b[0m\u001b[0;34m)\u001b[0m\u001b[0;34m\u001b[0m\u001b[0m\n",
      "\u001b[0;31mTypeError\u001b[0m: 'tuple' object does not support item assignment"
     ]
    }
   ],
   "source": [
    "x[0]=100\n",
    "print(x)"
   ]
  },
  {
   "cell_type": "code",
   "execution_count": 68,
   "metadata": {
    "collapsed": false
   },
   "outputs": [
    {
     "name": "stdout",
     "output_type": "stream",
     "text": [
      "[1, 2, 3, 4] <type 'list'>\n"
     ]
    }
   ],
   "source": [
    "# List\n",
    "x=[1,2,3,4]\n",
    "print(x, type(x))"
   ]
  },
  {
   "cell_type": "code",
   "execution_count": 69,
   "metadata": {
    "collapsed": false
   },
   "outputs": [
    {
     "name": "stdout",
     "output_type": "stream",
     "text": [
      "[100, 2, 3, 4]\n"
     ]
    }
   ],
   "source": [
    "x[0]=100\n",
    "print(x)"
   ]
  },
  {
   "cell_type": "code",
   "execution_count": 70,
   "metadata": {
    "collapsed": false
   },
   "outputs": [
    {
     "name": "stdout",
     "output_type": "stream",
     "text": [
      "[100, 2, 3, 4, 5] <type 'list'>\n"
     ]
    }
   ],
   "source": [
    "# Add elements to the end\n",
    "x.append(5)\n",
    "print(x, type(x))"
   ]
  },
  {
   "cell_type": "code",
   "execution_count": 71,
   "metadata": {
    "collapsed": false
   },
   "outputs": [
    {
     "name": "stdout",
     "output_type": "stream",
     "text": [
      "[100, 2, 3, 4, 5, 6, 7, 8, 9] <type 'list'>\n"
     ]
    }
   ],
   "source": [
    "# Extend\n",
    "y=[6,7,8,9]\n",
    "x.extend(y)\n",
    "print(x, type(x))"
   ]
  },
  {
   "cell_type": "code",
   "execution_count": 72,
   "metadata": {
    "collapsed": false
   },
   "outputs": [
    {
     "name": "stdout",
     "output_type": "stream",
     "text": [
      "[200, 100, 2, 3, 4, 5, 6, 7, 8, 9] <type 'list'>\n"
     ]
    }
   ],
   "source": [
    "# Insert 200 at position 0\n",
    "x.insert(0,200)\n",
    "print(x, type(x))"
   ]
  },
  {
   "cell_type": "code",
   "execution_count": 73,
   "metadata": {
    "collapsed": false
   },
   "outputs": [
    {
     "name": "stdout",
     "output_type": "stream",
     "text": [
      "[200, 100, 0, 2, 3, 4, 5, 6, 7, 8, 9] <type 'list'>\n"
     ]
    }
   ],
   "source": [
    "# Inser 0 ar position 2\n",
    "x.insert(2,0)\n",
    "print(x, type(x))"
   ]
  },
  {
   "cell_type": "code",
   "execution_count": 74,
   "metadata": {
    "collapsed": false
   },
   "outputs": [
    {
     "name": "stdout",
     "output_type": "stream",
     "text": [
      "[200, 0, 2, 3, 4, 5, 6, 7, 8, 9] <type 'list'>\n"
     ]
    }
   ],
   "source": [
    "# Remove element with value of 100\n",
    "x.remove(100)\n",
    "print(x, type(x))"
   ]
  },
  {
   "cell_type": "code",
   "execution_count": 75,
   "metadata": {
    "collapsed": false
   },
   "outputs": [
    {
     "ename": "ValueError",
     "evalue": "list.remove(x): x not in list",
     "output_type": "error",
     "traceback": [
      "\u001b[0;31m---------------------------------------------------------------------------\u001b[0m",
      "\u001b[0;31mValueError\u001b[0m                                Traceback (most recent call last)",
      "\u001b[0;32m<ipython-input-75-f714ced2532f>\u001b[0m in \u001b[0;36m<module>\u001b[0;34m()\u001b[0m\n\u001b[1;32m      1\u001b[0m \u001b[0;31m# Remove element with value of 300\u001b[0m\u001b[0;34m\u001b[0m\u001b[0;34m\u001b[0m\u001b[0m\n\u001b[0;32m----> 2\u001b[0;31m \u001b[0mx\u001b[0m\u001b[0;34m.\u001b[0m\u001b[0mremove\u001b[0m\u001b[0;34m(\u001b[0m\u001b[0;36m300\u001b[0m\u001b[0;34m)\u001b[0m\u001b[0;34m\u001b[0m\u001b[0m\n\u001b[0m\u001b[1;32m      3\u001b[0m \u001b[0;32mprint\u001b[0m\u001b[0;34m(\u001b[0m\u001b[0mx\u001b[0m\u001b[0;34m,\u001b[0m \u001b[0mtype\u001b[0m\u001b[0;34m(\u001b[0m\u001b[0mx\u001b[0m\u001b[0;34m)\u001b[0m\u001b[0;34m)\u001b[0m\u001b[0;34m\u001b[0m\u001b[0m\n",
      "\u001b[0;31mValueError\u001b[0m: list.remove(x): x not in list"
     ]
    }
   ],
   "source": [
    "# Remove element with value of 300\n",
    "x.remove(300)\n",
    "print(x, type(x))"
   ]
  },
  {
   "cell_type": "code",
   "execution_count": 76,
   "metadata": {
    "collapsed": false
   },
   "outputs": [
    {
     "name": "stdout",
     "output_type": "stream",
     "text": [
      "[0, 2, 3, 4, 5, 6, 7, 8, 9] <type 'list'>\n"
     ]
    }
   ],
   "source": [
    "# Remove element give the index\n",
    "del x[0]\n",
    "print(x, type(x))"
   ]
  },
  {
   "cell_type": "code",
   "execution_count": 77,
   "metadata": {
    "collapsed": false
   },
   "outputs": [
    {
     "name": "stdout",
     "output_type": "stream",
     "text": [
      "[0, 2, 3, 4, 5, 6, 7, 8, 9] <type 'list'>\n"
     ]
    }
   ],
   "source": [
    "# Sort\n",
    "x.sort()\n",
    "print(x, type(x))"
   ]
  },
  {
   "cell_type": "code",
   "execution_count": 79,
   "metadata": {
    "collapsed": false
   },
   "outputs": [
    {
     "name": "stdout",
     "output_type": "stream",
     "text": [
      "{'brazil': 209567920.0, 'chile': 18131850.0, 'colombia': 48654392.0, 'mexico': 128632004.0, 'peru': 31774225.0, 'argentina': 43847277.0, 'venezuela': 31518855.0} <type 'dict'>\n"
     ]
    }
   ],
   "source": [
    "# Dictionary\n",
    "population={'brazil':209.567920e6, 'mexico':128.632004e6, 'colombia':48.654392e6, 'argentina': 43.847277e6,\n",
    "            'peru': 31.774225e6,  'venezuela': 31.518855e6, 'chile': 18.131850e6}\n",
    "print(population, type(population))"
   ]
  },
  {
   "cell_type": "code",
   "execution_count": 84,
   "metadata": {
    "collapsed": false
   },
   "outputs": [
    {
     "data": {
      "text/plain": [
       "['brazil',\n",
       " 'chile',\n",
       " 'colombia',\n",
       " 'mexico',\n",
       " 'guatemala',\n",
       " 'peru',\n",
       " 'argentina',\n",
       " 'venezuela']"
      ]
     },
     "execution_count": 84,
     "metadata": {},
     "output_type": "execute_result"
    }
   ],
   "source": [
    "population.keys()"
   ]
  },
  {
   "cell_type": "code",
   "execution_count": 82,
   "metadata": {
    "collapsed": false
   },
   "outputs": [
    {
     "data": {
      "text/plain": [
       "18131850.0"
      ]
     },
     "execution_count": 82,
     "metadata": {},
     "output_type": "execute_result"
    }
   ],
   "source": [
    "population['chile']"
   ]
  },
  {
   "cell_type": "code",
   "execution_count": 83,
   "metadata": {
    "collapsed": false
   },
   "outputs": [
    {
     "name": "stdout",
     "output_type": "stream",
     "text": [
      "{'brazil': 209567920.0, 'chile': 18131850.0, 'colombia': 48654392.0, 'mexico': 128632004.0, 'guatemala': 16672956.0, 'peru': 31774225.0, 'argentina': 43847277.0, 'venezuela': 31518855.0}\n"
     ]
    }
   ],
   "source": [
    "population['guatemala']=16.672956e6\n",
    "print(population)"
   ]
  },
  {
   "cell_type": "code",
   "execution_count": 88,
   "metadata": {
    "collapsed": false
   },
   "outputs": [
    {
     "name": "stdout",
     "output_type": "stream",
     "text": [
      "brazil\n",
      "chile\n",
      "colombia\n",
      "mexico\n",
      "guatemala\n",
      "peru\n",
      "argentina\n",
      "venezuela\n"
     ]
    }
   ],
   "source": [
    "for key in population:\n",
    "    print(key)"
   ]
  },
  {
   "cell_type": "code",
   "execution_count": 89,
   "metadata": {
    "collapsed": false
   },
   "outputs": [
    {
     "name": "stdout",
     "output_type": "stream",
     "text": [
      "brazil 209567920.0\n",
      "chile 18131850.0\n",
      "colombia 48654392.0\n",
      "mexico 128632004.0\n",
      "guatemala 16672956.0\n",
      "peru 31774225.0\n",
      "argentina 43847277.0\n",
      "venezuela 31518855.0\n"
     ]
    }
   ],
   "source": [
    "for key, value in population.iteritems():\n",
    "    print(key, value)"
   ]
  },
  {
   "cell_type": "markdown",
   "metadata": {},
   "source": [
    "### Numpy"
   ]
  },
  {
   "cell_type": "markdown",
   "metadata": {},
   "source": [
    "Why using Numpy? Let's say you have two lists and you want to add them as vectors"
   ]
  },
  {
   "cell_type": "code",
   "execution_count": 95,
   "metadata": {
    "collapsed": false
   },
   "outputs": [
    {
     "name": "stdout",
     "output_type": "stream",
     "text": [
      "[1, 2, 3, 4, 5, 6, 7, 8]\n"
     ]
    }
   ],
   "source": [
    "x=[1,2,3,4]\n",
    "y=[5,6,7,8]\n",
    "print(x+y)"
   ]
  },
  {
   "cell_type": "code",
   "execution_count": 96,
   "metadata": {
    "collapsed": false
   },
   "outputs": [
    {
     "name": "stdout",
     "output_type": "stream",
     "text": [
      "1.11.1\n"
     ]
    }
   ],
   "source": [
    "import numpy as np\n",
    "print(np.__version__)"
   ]
  },
  {
   "cell_type": "code",
   "execution_count": 128,
   "metadata": {
    "collapsed": false
   },
   "outputs": [
    {
     "name": "stdout",
     "output_type": "stream",
     "text": [
      "[1 2 3 4]\n",
      "type(x):  <type 'numpy.ndarray'>\n",
      "x.dtype:  int64\n",
      "x.size:  4\n",
      "x.shape:  (4,)\n"
     ]
    }
   ],
   "source": [
    "# Define 1D array\n",
    "x = np.array([1,2,3,4])\n",
    "print(x)\n",
    "print('type(x): ', type(x))\n",
    "print('x.dtype: ', x.dtype)\n",
    "print('x.size: ', x.size)\n",
    "print('x.shape: ', x.shape)"
   ]
  },
  {
   "cell_type": "code",
   "execution_count": 143,
   "metadata": {
    "collapsed": false
   },
   "outputs": [
    {
     "name": "stdout",
     "output_type": "stream",
     "text": [
      "[ 1.  2.  3.  4.]\n",
      "type(x):  <type 'numpy.ndarray'>\n",
      "x.dtype:  float32\n",
      "x.size:  4\n",
      "x.shape:  (4,)\n"
     ]
    }
   ],
   "source": [
    "# Define 1D array as float data type \n",
    "x = np.array([1,2,3,4], dtype=np.float32)\n",
    "print(x)\n",
    "print('type(x): ', type(x))\n",
    "print('x.dtype: ', x.dtype)\n",
    "print('x.size: ', x.size)\n",
    "print('x.shape: ', x.shape)"
   ]
  },
  {
   "cell_type": "code",
   "execution_count": 100,
   "metadata": {
    "collapsed": false
   },
   "outputs": [
    {
     "name": "stdout",
     "output_type": "stream",
     "text": [
      "[ 6  8 10 12]\n"
     ]
    }
   ],
   "source": [
    "# Add two arrays\n",
    "y = np.array([5,6,7,8])\n",
    "print(x+y)"
   ]
  },
  {
   "cell_type": "code",
   "execution_count": 109,
   "metadata": {
    "collapsed": false
   },
   "outputs": [
    {
     "name": "stdout",
     "output_type": "stream",
     "text": [
      "[[1 2 3 4]\n",
      " [5 6 7 8]]\n",
      "<type 'numpy.ndarray'>\n",
      "8\n",
      "(2, 4)\n"
     ]
    }
   ],
   "source": [
    "# Define a 2D array\n",
    "x= np.array([[1,2,3,4],[5,6,7,8]])\n",
    "print(x)\n",
    "print(type(x))\n",
    "print(x.size)\n",
    "print(x.shape)"
   ]
  },
  {
   "cell_type": "markdown",
   "metadata": {},
   "source": [
    "**See Figure 1 for an illustration of indexing on a 2D array.**<br />\n",
    "<img src=\"images/numpy_indexing.png\" width=\"400\">"
   ]
  },
  {
   "cell_type": "code",
   "execution_count": 112,
   "metadata": {
    "collapsed": false
   },
   "outputs": [
    {
     "name": "stdout",
     "output_type": "stream",
     "text": [
      "[ 0.  0.  0.  0.  0.  0.  0.  0.  0.  0.]\n",
      "[[ 0.  0.  0.  0.]\n",
      " [ 0.  0.  0.  0.]]\n"
     ]
    }
   ],
   "source": [
    "# Initialize 1D and 2D array with zeros. Alway columns x rows\n",
    "x=np.zeros(10)\n",
    "print(x)\n",
    "\n",
    "x=np.zeros([2,4])\n",
    "print(x)"
   ]
  },
  {
   "cell_type": "code",
   "execution_count": 113,
   "metadata": {
    "collapsed": false
   },
   "outputs": [
    {
     "name": "stdout",
     "output_type": "stream",
     "text": [
      "[ 0.00184004  0.30535411  0.34197401  0.45003444  0.72501196  0.38275626\n",
      "  0.71932856  0.00272694  0.26584826  0.44980935  0.1599838   0.66299047\n",
      "  0.43314803  0.31037093  0.83618332  0.57333035  0.85817215  0.3158536\n",
      "  0.10214068  0.18590634  0.10241169  0.6191833   0.84762627  0.85050126\n",
      "  0.09407985  0.8278464   0.51392924  0.16071183  0.85529426  0.34825094\n",
      "  0.21912778  0.27722969  0.52883157  0.96641633  0.77015916  0.2175592\n",
      "  0.15891917  0.39770525  0.21103248  0.06852896  0.7060274   0.87799726\n",
      "  0.67388995  0.51359284  0.7061061   0.91678013  0.66213885  0.94735797\n",
      "  0.90625369  0.46003202  0.79346082  0.04227974  0.82531052  0.27851822\n",
      "  0.64564871  0.35052117  0.29028755  0.82568035  0.59722627  0.07033725\n",
      "  0.4025791   0.2121411   0.46286794  0.25025617  0.02965827  0.94575648\n",
      "  0.16434211  0.9555548   0.493377    0.03162042  0.561942    0.30757976\n",
      "  0.1074481   0.3628027   0.30726375  0.53983386  0.13419366  0.41803185\n",
      "  0.00765926  0.10729638  0.08371646  0.67827474  0.59943906  0.32998998\n",
      "  0.26924855  0.69834324  0.56524682  0.5921291   0.96952657  0.94861796\n",
      "  0.08052506  0.42961909  0.38446894  0.83694409  0.07549071  0.73229557\n",
      "  0.03170816  0.09779863  0.85348625  0.40562566]\n"
     ]
    }
   ],
   "source": [
    "# Create a random array\n",
    "x=np.random.random(100)\n",
    "print(x)"
   ]
  },
  {
   "cell_type": "code",
   "execution_count": 130,
   "metadata": {
    "collapsed": false
   },
   "outputs": [
    {
     "name": "stdout",
     "output_type": "stream",
     "text": [
      "[[ 1  2  3  4]\n",
      " [ 5  6  7  8]\n",
      " [ 9 10 11 12]]\n",
      "\n",
      "x[0,3]:  4\n",
      "\n",
      "x[:,0]:  [1 5 9]\n",
      "\n",
      "x[0,:]:  [1 2 3 4]\n"
     ]
    }
   ],
   "source": [
    "# Array indexing\n",
    "x= np.array([[1,2,3,4],[5,6,7,8],[9,10,11,12]])\n",
    "print(x)\n",
    "\n",
    "print('\\nx[0,3]: ', x[0,3])\n",
    "\n",
    "print('\\nx[:,0]: ', x[:,0])\n",
    "print('\\nx[0,:]: ', x[0,:])"
   ]
  },
  {
   "cell_type": "code",
   "execution_count": 131,
   "metadata": {
    "collapsed": false
   },
   "outputs": [
    {
     "name": "stdout",
     "output_type": "stream",
     "text": [
      "[[False False False False]\n",
      " [False False  True  True]\n",
      " [ True  True  True  True]]\n"
     ]
    }
   ],
   "source": [
    "# Boolean array indexing for creating masks\n",
    "mask=x>6\n",
    "print(mask)"
   ]
  },
  {
   "cell_type": "code",
   "execution_count": 132,
   "metadata": {
    "collapsed": false
   },
   "outputs": [
    {
     "name": "stdout",
     "output_type": "stream",
     "text": [
      "[ 7  8  9 10 11 12]\n"
     ]
    }
   ],
   "source": [
    "print(x[mask])"
   ]
  },
  {
   "cell_type": "markdown",
   "metadata": {},
   "source": [
    "**See Figure 2 for an illustration of boolean indexing on a 2D array.**<br />\n",
    "<img src=\"images/boolean_indexing.png\" width=\"400\">"
   ]
  },
  {
   "cell_type": "code",
   "execution_count": 134,
   "metadata": {
    "collapsed": false
   },
   "outputs": [
    {
     "data": {
      "text/plain": [
       "array([15, 18, 21, 24])"
      ]
     },
     "execution_count": 134,
     "metadata": {},
     "output_type": "execute_result"
    }
   ],
   "source": [
    "# Add 2D array along columns\n",
    "np.sum(x, axis=0)"
   ]
  },
  {
   "cell_type": "code",
   "execution_count": 135,
   "metadata": {
    "collapsed": false
   },
   "outputs": [
    {
     "data": {
      "text/plain": [
       "array([10, 26, 42])"
      ]
     },
     "execution_count": 135,
     "metadata": {},
     "output_type": "execute_result"
    }
   ],
   "source": [
    "# Add 2D array along rows\n",
    "np.sum(x, axis=1)"
   ]
  },
  {
   "cell_type": "code",
   "execution_count": 136,
   "metadata": {
    "collapsed": false
   },
   "outputs": [
    {
     "name": "stdout",
     "output_type": "stream",
     "text": [
      "[[ 1  5  9]\n",
      " [ 2  6 10]\n",
      " [ 3  7 11]\n",
      " [ 4  8 12]]\n"
     ]
    }
   ],
   "source": [
    "# Create the transpose\n",
    "print(x.T)"
   ]
  },
  {
   "cell_type": "markdown",
   "metadata": {},
   "source": [
    "**Mathematical functions**"
   ]
  },
  {
   "cell_type": "code",
   "execution_count": 140,
   "metadata": {
    "collapsed": false
   },
   "outputs": [
    {
     "name": "stdout",
     "output_type": "stream",
     "text": [
      "[ 0.16852557  0.82759454  0.93759721  0.07421415  0.85399033  0.83944451\n",
      "  0.25900282  0.48627497  0.56235866  0.41246581  0.09896005  0.14704253\n",
      "  0.81548291  0.78049575  0.31792487  0.43920356  0.73220208  0.39944968\n",
      "  0.65861462  0.54794291  0.46803529  0.14599528  0.36812081  0.41239581\n",
      "  0.53538923  0.90910926  0.85707638  0.94846572  0.15874429  0.92798357\n",
      "  0.41309719  0.07004492  0.98632908  0.2025232   0.89298945  0.35516346\n",
      "  0.50338437  0.50102249  0.6962746   0.62248414  0.09299552  0.07330075\n",
      "  0.00775958  0.82813582  0.84053548  0.04052015  0.72023627  0.4663367\n",
      "  0.46895887  0.59586113  0.07944606  0.77911098  0.21965164  0.33617147\n",
      "  0.86488798  0.20143473  0.15293794  0.2427127   0.77599941  0.67177719\n",
      "  0.37889744  0.77107805  0.01198106  0.89370284  0.18645281  0.25157948\n",
      "  0.58602298  0.96914209  0.12029104  0.56623824  0.14085224  0.42975567\n",
      "  0.06112192  0.4212431   0.5146792   0.99622001  0.22183457  0.80181196\n",
      "  0.02091808  0.43428728  0.44167097  0.07997137  0.96178554  0.43259951\n",
      "  0.79709125  0.80405049  0.64294467  0.99089154  0.61952246  0.01549973\n",
      "  0.19786921  0.28543023  0.85447534  0.52607358  0.18984474  0.83159782\n",
      "  0.35973689  0.04538417  0.2483429   0.84734658]\n",
      "Mean:  0.487424255248\n",
      "StdDev:  0.30163404461\n"
     ]
    }
   ],
   "source": [
    "x=np.random.random(100)\n",
    "print(x)\n",
    "print('Mean: ', np.mean(x))\n",
    "print('StdDev: ', np.std(x))"
   ]
  },
  {
   "cell_type": "code",
   "execution_count": 141,
   "metadata": {
    "collapsed": false
   },
   "outputs": [
    {
     "name": "stdout",
     "output_type": "stream",
     "text": [
      "[ 0.18652597  1.55256971  1.14283458 -1.35914885  1.21468996 -0.4615599\n",
      " -0.28772215 -0.43918754  3.51730497 -0.11726413 -0.53531477  0.92511971\n",
      " -1.13513868 -0.75701252  2.46231794 -0.67093379 -0.59329276  0.11307838\n",
      "  1.84918723 -0.35901512  1.1781521   0.93129658  0.39098745 -0.70786513\n",
      "  0.36882945  0.1228113  -1.20879409  1.05315516  0.33192098 -0.06635965\n",
      "  0.31379955  0.77870529  1.05223656 -2.48163903 -0.1372486   0.40161139\n",
      " -0.25653979  1.07119289  1.0913657   1.02538293 -1.02598548 -1.99115923\n",
      "  0.51534132  0.68832854  0.71679205  0.10138614 -1.36732822  0.55832126\n",
      " -1.20533372  0.37914936 -2.88310559 -0.7302587   0.16269835 -0.44063943\n",
      " -0.20150943 -0.1316026  -1.39300834  0.35909068 -0.78927575 -0.5462339\n",
      "  0.31067815 -1.16837954  0.10088436  0.08102672 -0.80075645 -0.20105449\n",
      " -0.49678653 -1.12840697  1.73212738  0.73188236 -1.70208828 -1.65167087\n",
      " -2.09354782  0.05051982  1.16470419  0.22498895 -0.15133103 -0.65246578\n",
      "  1.03371634  1.59368135 -0.84576994  0.19385223  0.7755046  -0.45523672\n",
      "  0.67494282 -0.5413638  -0.83436285  0.56779708  1.37709729 -0.00944807\n",
      " -0.2242331   0.05522205  1.44729972  0.59677088 -1.20775152  0.12660249\n",
      "  0.34900274 -0.66178261  1.47268292  0.46249467]\n",
      "Mean:  0.0257374932541\n",
      "StdDev:  1.03766447021\n"
     ]
    }
   ],
   "source": [
    "x=np.random.randn(100)\n",
    "print(x)\n",
    "print('Mean: ', np.mean(x))\n",
    "print('StdDev: ', np.std(x))"
   ]
  },
  {
   "cell_type": "code",
   "execution_count": 150,
   "metadata": {
    "collapsed": false
   },
   "outputs": [
    {
     "name": "stdout",
     "output_type": "stream",
     "text": [
      "[0 1 2 3 4 5 6 7 8 9]\n"
     ]
    }
   ],
   "source": [
    "x=np.arange(0,10)\n",
    "print(x)"
   ]
  },
  {
   "cell_type": "code",
   "execution_count": 151,
   "metadata": {
    "collapsed": false
   },
   "outputs": [
    {
     "name": "stdout",
     "output_type": "stream",
     "text": [
      "[ 0.   0.1  0.2  0.3  0.4  0.5  0.6  0.7  0.8  0.9  1.   1.1  1.2  1.3  1.4\n",
      "  1.5  1.6  1.7  1.8  1.9  2.   2.1  2.2  2.3  2.4  2.5  2.6  2.7  2.8  2.9\n",
      "  3.   3.1  3.2  3.3  3.4  3.5  3.6  3.7  3.8  3.9  4.   4.1  4.2  4.3  4.4\n",
      "  4.5  4.6  4.7  4.8  4.9  5.   5.1  5.2  5.3  5.4  5.5  5.6  5.7  5.8  5.9\n",
      "  6.   6.1  6.2  6.3  6.4  6.5  6.6  6.7  6.8  6.9  7.   7.1  7.2  7.3  7.4\n",
      "  7.5  7.6  7.7  7.8  7.9  8.   8.1  8.2  8.3  8.4  8.5  8.6  8.7  8.8  8.9\n",
      "  9.   9.1  9.2  9.3  9.4  9.5  9.6  9.7  9.8  9.9]\n"
     ]
    }
   ],
   "source": [
    "x=np.arange(0,10, 0.1)\n",
    "print(x)"
   ]
  },
  {
   "cell_type": "code",
   "execution_count": 152,
   "metadata": {
    "collapsed": false
   },
   "outputs": [
    {
     "name": "stdout",
     "output_type": "stream",
     "text": [
      "[  0.00000000e+00   3.09016994e-01   5.87785252e-01   8.09016994e-01\n",
      "   9.51056516e-01   1.00000000e+00   9.51056516e-01   8.09016994e-01\n",
      "   5.87785252e-01   3.09016994e-01   1.22464680e-16  -3.09016994e-01\n",
      "  -5.87785252e-01  -8.09016994e-01  -9.51056516e-01  -1.00000000e+00\n",
      "  -9.51056516e-01  -8.09016994e-01  -5.87785252e-01  -3.09016994e-01\n",
      "  -2.44929360e-16   3.09016994e-01   5.87785252e-01   8.09016994e-01\n",
      "   9.51056516e-01   1.00000000e+00   9.51056516e-01   8.09016994e-01\n",
      "   5.87785252e-01   3.09016994e-01   3.67394040e-16  -3.09016994e-01\n",
      "  -5.87785252e-01  -8.09016994e-01  -9.51056516e-01  -1.00000000e+00\n",
      "  -9.51056516e-01  -8.09016994e-01  -5.87785252e-01  -3.09016994e-01\n",
      "  -4.89858720e-16   3.09016994e-01   5.87785252e-01   8.09016994e-01\n",
      "   9.51056516e-01   1.00000000e+00   9.51056516e-01   8.09016994e-01\n",
      "   5.87785252e-01   3.09016994e-01   6.12323400e-16  -3.09016994e-01\n",
      "  -5.87785252e-01  -8.09016994e-01  -9.51056516e-01  -1.00000000e+00\n",
      "  -9.51056516e-01  -8.09016994e-01  -5.87785252e-01  -3.09016994e-01\n",
      "  -7.34788079e-16   3.09016994e-01   5.87785252e-01   8.09016994e-01\n",
      "   9.51056516e-01   1.00000000e+00   9.51056516e-01   8.09016994e-01\n",
      "   5.87785252e-01   3.09016994e-01   8.57252759e-16  -3.09016994e-01\n",
      "  -5.87785252e-01  -8.09016994e-01  -9.51056516e-01  -1.00000000e+00\n",
      "  -9.51056516e-01  -8.09016994e-01  -5.87785252e-01  -3.09016994e-01\n",
      "  -9.79717439e-16   3.09016994e-01   5.87785252e-01   8.09016994e-01\n",
      "   9.51056516e-01   1.00000000e+00   9.51056516e-01   8.09016994e-01\n",
      "   5.87785252e-01   3.09016994e-01   1.10218212e-15  -3.09016994e-01\n",
      "  -5.87785252e-01  -8.09016994e-01  -9.51056516e-01  -1.00000000e+00\n",
      "  -9.51056516e-01  -8.09016994e-01  -5.87785252e-01  -3.09016994e-01]\n"
     ]
    }
   ],
   "source": [
    "y=np.sin(x*np.pi)\n",
    "print(y)"
   ]
  },
  {
   "cell_type": "code",
   "execution_count": 153,
   "metadata": {
    "collapsed": true
   },
   "outputs": [],
   "source": [
    "# Let's import matplot lib to visualize the trigonometric functions\n",
    "import matplotlib.pyplot as plt\n",
    "%matplotlib inline"
   ]
  },
  {
   "cell_type": "code",
   "execution_count": 154,
   "metadata": {
    "collapsed": false
   },
   "outputs": [
    {
     "data": {
      "text/plain": [
       "[<matplotlib.lines.Line2D at 0x10c0dc790>]"
      ]
     },
     "execution_count": 154,
     "metadata": {},
     "output_type": "execute_result"
    },
    {
     "data": {
      "image/png": "[encoded data removed]",
      "text/plain": [
       "<matplotlib.figure.Figure at 0x10b13f690>"
      ]
     },
     "metadata": {},
     "output_type": "display_data"
    }
   ],
   "source": [
    "plt.plot(x,y)"
   ]
  },
  {
   "cell_type": "code",
   "execution_count": 156,
   "metadata": {
    "collapsed": false
   },
   "outputs": [
    {
     "data": {
      "text/plain": [
       "[<matplotlib.lines.Line2D at 0x10c2e43d0>]"
      ]
     },
     "execution_count": 156,
     "metadata": {},
     "output_type": "execute_result"
    },
    {
     "data": {
      "image/png": "[encoded data removed]",
      "text/plain": [
       "<matplotlib.figure.Figure at 0x10c124c90>"
      ]
     },
     "metadata": {},
     "output_type": "display_data"
    }
   ],
   "source": [
    "# Power\n",
    "x=np.arange(-10,10, 0.1)\n",
    "y=x**2\n",
    "plt.plot(x,y)"
   ]
  },
  {
   "cell_type": "code",
   "execution_count": 157,
   "metadata": {
    "collapsed": false
   },
   "outputs": [
    {
     "data": {
      "text/plain": [
       "[<matplotlib.lines.Line2D at 0x10c442750>]"
      ]
     },
     "execution_count": 157,
     "metadata": {},
     "output_type": "execute_result"
    },
    {
     "data": {
      "image/png": "[encoded data removed]",
      "text/plain": [
       "<matplotlib.figure.Figure at 0x10c1cd650>"
      ]
     },
     "metadata": {},
     "output_type": "display_data"
    }
   ],
   "source": [
    "# Square root\n",
    "x=np.arange(0,10, 0.1)\n",
    "y=np.sqrt(x)\n",
    "plt.plot(x,y)"
   ]
  },
  {
   "cell_type": "code",
   "execution_count": 158,
   "metadata": {
    "collapsed": false
   },
   "outputs": [
    {
     "data": {
      "text/plain": [
       "[<matplotlib.lines.Line2D at 0x10c5ab2d0>]"
      ]
     },
     "execution_count": 158,
     "metadata": {},
     "output_type": "execute_result"
    },
    {
     "data": {
      "image/png": "[encoded data removed]",
      "text/plain": [
       "<matplotlib.figure.Figure at 0x10c343850>"
      ]
     },
     "metadata": {},
     "output_type": "display_data"
    }
   ],
   "source": [
    "# exponential\n",
    "x=np.arange(0,10, 0.1)\n",
    "y=np.exp(x)\n",
    "plt.plot(x,y)"
   ]
  },
  {
   "cell_type": "code",
   "execution_count": null,
   "metadata": {
    "collapsed": true
   },
   "outputs": [],
   "source": []
  }
 ],
 "metadata": {
  "kernelspec": {
   "display_name": "Python 2",
   "language": "python",
   "name": "python2"
  },
  "language_info": {
   "codemirror_mode": {
    "name": "ipython",
    "version": 2
   },
   "file_extension": ".py",
   "mimetype": "text/x-python",
   "name": "python",
   "nbconvert_exporter": "python",
   "pygments_lexer": "ipython2",
   "version": "2.7.12"
  }
 },
 "nbformat": 4,
 "nbformat_minor": 1
}
